{
 "cells": [
  {
   "cell_type": "markdown",
   "metadata": {},
   "source": [
    "2. After we convert the initial dataframe into json format, we dive into each country's set of tweets. Some of the tweets relating about the country would not have mentioned it by actual name. There are some words that could be unique to the country: example: Mexico- Wall, North Korea- Nuclear in his tweets. After that sorting, we generate tweets of each country into a .csv file.  "
   ]
  },
  {
   "cell_type": "code",
   "execution_count": 1,
   "metadata": {
    "collapsed": true
   },
   "outputs": [],
   "source": [
    "import pandas as pd\n",
    "import numpy as py\n",
    "import matplotlib.pyplot as plt"
   ]
  },
  {
   "cell_type": "code",
   "execution_count": 2,
   "metadata": {},
   "outputs": [
    {
     "data": {
      "text/html": [
       "<div>\n",
       "<style scoped>\n",
       "    .dataframe tbody tr th:only-of-type {\n",
       "        vertical-align: middle;\n",
       "    }\n",
       "\n",
       "    .dataframe tbody tr th {\n",
       "        vertical-align: top;\n",
       "    }\n",
       "\n",
       "    .dataframe thead th {\n",
       "        text-align: right;\n",
       "    }\n",
       "</style>\n",
       "<table border=\"1\" class=\"dataframe\">\n",
       "  <thead>\n",
       "    <tr style=\"text-align: right;\">\n",
       "      <th></th>\n",
       "      <th>created_at</th>\n",
       "      <th>text</th>\n",
       "    </tr>\n",
       "  </thead>\n",
       "  <tbody>\n",
       "    <tr>\n",
       "      <th>0</th>\n",
       "      <td>2018-07-18 11:33:34</td>\n",
       "      <td>million jobs created since our great Elect...</td>\n",
       "    </tr>\n",
       "    <tr>\n",
       "      <th>1</th>\n",
       "      <td>2018-07-18 11:27:59</td>\n",
       "      <td>Some people HATE the fact that I got along wel...</td>\n",
       "    </tr>\n",
       "    <tr>\n",
       "      <th>10</th>\n",
       "      <td>2018-07-17 14:39:08</td>\n",
       "      <td>The economy of the United States is stronger t...</td>\n",
       "    </tr>\n",
       "    <tr>\n",
       "      <th>100</th>\n",
       "      <td>2018-07-09 17:04:04</td>\n",
       "      <td>The failing NY Times Fake News story today abo...</td>\n",
       "    </tr>\n",
       "    <tr>\n",
       "      <th>1000</th>\n",
       "      <td>2018-04-04 13:20:31</td>\n",
       "      <td>When you xe  x   x  re already      Billion DO...</td>\n",
       "    </tr>\n",
       "  </tbody>\n",
       "</table>\n",
       "</div>"
      ],
      "text/plain": [
       "              created_at                                               text\n",
       "0    2018-07-18 11:33:34      million jobs created since our great Elect...\n",
       "1    2018-07-18 11:27:59  Some people HATE the fact that I got along wel...\n",
       "10   2018-07-17 14:39:08  The economy of the United States is stronger t...\n",
       "100  2018-07-09 17:04:04  The failing NY Times Fake News story today abo...\n",
       "1000 2018-04-04 13:20:31  When you xe  x   x  re already      Billion DO..."
      ]
     },
     "execution_count": 2,
     "metadata": {},
     "output_type": "execute_result"
    }
   ],
   "source": [
    "df=pd.read_json('trump_data.json')\n",
    "df=df.drop(columns=['id'])\n",
    "df.head()"
   ]
  },
  {
   "cell_type": "code",
   "execution_count": 3,
   "metadata": {
    "collapsed": true
   },
   "outputs": [],
   "source": [
    "countries=['egypt','sisi','shithole','germany','merkel','haitians','india','modi','iran','iranian','japan','pm','abe','gaddafi','libya','mexico','wall','north','korea','nuclear','kim','palestinians','palestine','palestinian','poland','polish','russia','putin','saudi arabia','singapore','singaporean','somali','south','africa','mandela','turkey','istanbul','brexit','united kingdom','england','uk']\n",
    "countries_easy=['Afghanistan','Argentina','Australia','Belgium','Brazil','Canada','Chile','China','Colombia','Cuba','Denmark','Finland','France','Georgia','Greece','Honduras','Indonesia','Iraq','Ireland','Israel','Italy','Jamaica','Jordan','Kuwait','Nigeria','Norway','Pakistan','Panama','Phillipines','Qatar','Spain','Sudan','Sweden','Syria','Thailand','Ukraine','Uzbekistan','Venezuela','Yemen','Vietnam']\n",
    "    "
   ]
  },
  {
   "cell_type": "code",
   "execution_count": 4,
   "metadata": {
    "collapsed": true
   },
   "outputs": [],
   "source": [
    "afghanistan_df=df[df['text'].str.contains('Afghanistan')]\n",
    "argentina_df=df[df['text'].str.contains('Argentina')]"
   ]
  },
  {
   "cell_type": "code",
   "execution_count": 5,
   "metadata": {},
   "outputs": [
    {
     "data": {
      "text/plain": [
       "(2, 2)"
      ]
     },
     "execution_count": 5,
     "metadata": {},
     "output_type": "execute_result"
    }
   ],
   "source": [
    "australia_df=df[df['text'].str.contains('Australia')]\n",
    "australia_df.shape"
   ]
  },
  {
   "cell_type": "code",
   "execution_count": 7,
   "metadata": {
    "collapsed": true
   },
   "outputs": [],
   "source": [
    "for i in countries_easy:\n",
    "    country_df=df[df['text'].str.contains(str(i))]\n",
    "    country_df.to_csv('country_dataframes/{}.csv'.format(str(i)))"
   ]
  },
  {
   "cell_type": "code",
   "execution_count": 8,
   "metadata": {
    "collapsed": true
   },
   "outputs": [],
   "source": [
    "egypt_df=df[df['text'].str.contains('Egypt') | df['text'].str.contains('Sisi')]\n",
    "\n",
    "germany_df=df[df['text'].str.contains('Germany') | df['text'].str.contains('Merkel')]"
   ]
  },
  {
   "cell_type": "code",
   "execution_count": 9,
   "metadata": {
    "collapsed": true
   },
   "outputs": [],
   "source": [
    "haiti_df=df[df['text'].str.contains('Haiti') | df['text'].str.contains('Haitians')]\n",
    "india_df=df[df['text'].str.contains('India') | df['text'].str.contains('Modi')]"
   ]
  },
  {
   "cell_type": "code",
   "execution_count": 10,
   "metadata": {
    "collapsed": true
   },
   "outputs": [],
   "source": [
    "iran_df=df[df['text'].str.contains('Iran') | df['text'].str.contains('Iranian')]\n",
    "japan_df=df[df['text'].str.contains('Japan') | df['text'].str.contains('Pm Abe')]"
   ]
  },
  {
   "cell_type": "code",
   "execution_count": 12,
   "metadata": {
    "collapsed": true
   },
   "outputs": [],
   "source": [
    "libya_df=df[df['text'].str.contains('Gaddafi') | df['text'].str.contains('Libya')]\n",
    "mexico_df=df[df['text'].str.contains('wall') | df['text'].str.contains('Mexico')]\n",
    "north_korea_df=df[df['text'].str.contains('nuclear') | df['text'].str.contains('North Korea') | df['text'].str.contains('kim')]\n",
    "palestine_df=df[df['text'].str.contains('Palestinian') | df['text'].str.contains('Palestine')]\n",
    "poland_df=df[df['text'].str.contains('Poland') | df['text'].str.contains('Polish')]\n",
    "russia_df=df[df['text'].str.contains('Russia') | df['text'].str.contains('Putin')]\n",
    "saudi_arabia_df=df[df['text'].str.contains('Saudi Arabia')]\n",
    "singapore_df=df[df['text'].str.contains('Singapore') | df['text'].str.contains('Singaporean')]\n",
    "somali_df=df[df['text'].str.contains('Somali')]\n",
    "south_africa_df=df[df['text'].str.contains('Mandela') | df['text'].str.contains('South Africa')]\n",
    "turkey_df=df[df['text'].str.contains('Turkey') | df['text'].str.contains('Istanbul')]\n",
    "england_df=df[df['text'].str.contains('United Kingdom') | df['text'].str.contains('Brexit') | df['text'].str.contains('UK') | df['text'].str.contains('England')]\n",
    "\n"
   ]
  }
 ],
 "metadata": {
  "kernelspec": {
   "display_name": "Python 3",
   "language": "python",
   "name": "python3"
  },
  "language_info": {
   "codemirror_mode": {
    "name": "ipython",
    "version": 3
   },
   "file_extension": ".py",
   "mimetype": "text/x-python",
   "name": "python",
   "nbconvert_exporter": "python",
   "pygments_lexer": "ipython3",
   "version": "3.7.0"
  }
 },
 "nbformat": 4,
 "nbformat_minor": 2
}
