{
 "cells": [
  {
   "cell_type": "markdown",
   "metadata": {},
   "source": [
    "3. After executing Notebook 2, that generates out each country's tweet, we parse through the csv files and utilise Vader Sentiment analysis to calculate the aggregate sentiment of a country and store that country and its sentiment value into a new and final csv. "
   ]
  },
  {
   "cell_type": "code",
   "execution_count": 2,
   "metadata": {
    "collapsed": true
   },
   "outputs": [],
   "source": [
    "import pandas as pd\n",
    "import numpy as np\n",
    "import os"
   ]
  },
  {
   "cell_type": "code",
   "execution_count": 4,
   "metadata": {},
   "outputs": [
    {
     "data": {
      "text/plain": [
       "['Afghanistan.csv',\n",
       " 'Argentina.csv',\n",
       " 'Australia.csv',\n",
       " 'Belgium.csv',\n",
       " 'Brazil.csv',\n",
       " 'Canada.csv',\n",
       " 'Chile.csv',\n",
       " 'China.csv',\n",
       " 'Colombia.csv',\n",
       " 'Cuba.csv',\n",
       " 'Denmark.csv',\n",
       " 'Egypt.csv',\n",
       " 'England.csv',\n",
       " 'Finland.csv',\n",
       " 'France.csv',\n",
       " 'Georgia.csv',\n",
       " 'Germany.csv',\n",
       " 'Greece.csv',\n",
       " 'Haiti.csv',\n",
       " 'Honduras.csv',\n",
       " 'India.csv',\n",
       " 'Indonesia.csv',\n",
       " 'Iran.csv',\n",
       " 'Iraq.csv',\n",
       " 'Ireland.csv',\n",
       " 'Israel.csv',\n",
       " 'Italy.csv',\n",
       " 'Jamaica.csv',\n",
       " 'Japan.csv',\n",
       " 'Jordan.csv',\n",
       " 'Kuwait.csv',\n",
       " 'Libya.csv',\n",
       " 'Mexico.csv',\n",
       " 'Nigeria.csv',\n",
       " 'North Korea.csv',\n",
       " 'Norway.csv',\n",
       " 'Pakistan.csv',\n",
       " 'Palestine.csv',\n",
       " 'Panama.csv',\n",
       " 'Phillipines.csv',\n",
       " 'Poland.csv',\n",
       " 'Qatar.csv',\n",
       " 'Russia.csv',\n",
       " 'Saudi Arabia.csv',\n",
       " 'Singapore.csv',\n",
       " 'Somali.csv',\n",
       " 'South Africa.csv',\n",
       " 'Spain.csv',\n",
       " 'Sudan.csv',\n",
       " 'Sweden.csv',\n",
       " 'Syria.csv',\n",
       " 'Thailand.csv',\n",
       " 'Turkey.csv',\n",
       " 'Ukraine.csv',\n",
       " 'Uzbekistan.csv',\n",
       " 'Venezuela.csv',\n",
       " 'Vietnam.csv',\n",
       " 'Yemen.csv']"
      ]
     },
     "execution_count": 4,
     "metadata": {},
     "output_type": "execute_result"
    }
   ],
   "source": [
    "os.listdir('./country_dataframes')"
   ]
  },
  {
   "cell_type": "code",
   "execution_count": 5,
   "metadata": {
    "collapsed": true
   },
   "outputs": [],
   "source": [
    "countries_easy=['Afghanistan','Argentina','Australia','Belgium','Brazil','Canada','Chile','China','Colombia','Cuba','Denmark','Finland','France','Georgia','Greece','Honduras','Indonesia','Iraq','Ireland','Israel','Italy','Jamaica','Jordan','Kuwait','Nigeria','Norway','Pakistan','Panama','Phillipines','Qatar','Spain','Sudan','Sweden','Syria','Thailand','Ukraine','Uzbekistan','Venezuela','Yemen','Vietnam']"
   ]
  },
  {
   "cell_type": "code",
   "execution_count": 6,
   "metadata": {
    "collapsed": true
   },
   "outputs": [],
   "source": [
    "from vaderSentiment.vaderSentiment import SentimentIntensityAnalyzer\n",
    "analyzer = SentimentIntensityAnalyzer()"
   ]
  },
  {
   "cell_type": "code",
   "execution_count": 7,
   "metadata": {
    "collapsed": true
   },
   "outputs": [],
   "source": [
    "dictionary={}\n",
    "for file in os.listdir('./country_dataframes'):\n",
    "   filename = os.fsdecode(file)\n",
    "   if filename.endswith(\".csv\"):\n",
    "       df=pd.read_csv('./country_dataframes/' +filename)\n",
    "       tweet = []\n",
    "       vs_compound = []\n",
    "       vs_pos = []\n",
    "       vs_neu = []\n",
    "       vs_neg = []\n",
    "       for i in range(0,len(df)):\n",
    "           tweet.append(df['text'][i])\n",
    "           vs_compound.append(analyzer.polarity_scores(df['text'][i])['compound'])\n",
    "           vs_pos.append(analyzer.polarity_scores(df['text'][i])['pos'])\n",
    "           vs_neu.append(analyzer.polarity_scores(df['text'][i])['neu'])\n",
    "           vs_neg.append(analyzer.polarity_scores(df['text'][i])['neg'])\n",
    "       twitter_df = pd.DataFrame({'Tweet': tweet,\n",
    "                       'Compound': vs_compound,\n",
    "                      'Positive': vs_pos,\n",
    "                      'Neutral': vs_neu,\n",
    "                     'Negative':vs_neg})\n",
    "       twitter_df = twitter_df[['Tweet','Compound','Positive','Neutral','Negative']]\n",
    "  \n",
    "   dictionary[filename]=twitter_df\n",
    "\n",
    "\n",
    "\n",
    "    \n"
   ]
  },
  {
   "cell_type": "code",
   "execution_count": 8,
   "metadata": {
    "scrolled": true
   },
   "outputs": [
    {
     "data": {
      "text/html": [
       "<div>\n",
       "<style scoped>\n",
       "    .dataframe tbody tr th:only-of-type {\n",
       "        vertical-align: middle;\n",
       "    }\n",
       "\n",
       "    .dataframe tbody tr th {\n",
       "        vertical-align: top;\n",
       "    }\n",
       "\n",
       "    .dataframe thead th {\n",
       "        text-align: right;\n",
       "    }\n",
       "</style>\n",
       "<table border=\"1\" class=\"dataframe\">\n",
       "  <thead>\n",
       "    <tr style=\"text-align: right;\">\n",
       "      <th></th>\n",
       "      <th>Tweet</th>\n",
       "      <th>Compound</th>\n",
       "      <th>Positive</th>\n",
       "      <th>Neutral</th>\n",
       "      <th>Negative</th>\n",
       "    </tr>\n",
       "  </thead>\n",
       "  <tbody>\n",
       "    <tr>\n",
       "      <th>0</th>\n",
       "      <td>RT     HappyThanksgiving from   and    soldier...</td>\n",
       "      <td>0.0000</td>\n",
       "      <td>0.000</td>\n",
       "      <td>1.000</td>\n",
       "      <td>0.000</td>\n",
       "    </tr>\n",
       "    <tr>\n",
       "      <th>1</th>\n",
       "      <td>Will be doing a live Thanksgiving Video Teleco...</td>\n",
       "      <td>0.0000</td>\n",
       "      <td>0.000</td>\n",
       "      <td>1.000</td>\n",
       "      <td>0.000</td>\n",
       "    </tr>\n",
       "    <tr>\n",
       "      <th>2</th>\n",
       "      <td>It was a pleasure to have President Ashraf Gha...</td>\n",
       "      <td>0.5719</td>\n",
       "      <td>0.198</td>\n",
       "      <td>0.802</td>\n",
       "      <td>0.000</td>\n",
       "    </tr>\n",
       "    <tr>\n",
       "      <th>3</th>\n",
       "      <td>The Fake News is now complaining about my diff...</td>\n",
       "      <td>-0.6808</td>\n",
       "      <td>0.073</td>\n",
       "      <td>0.660</td>\n",
       "      <td>0.267</td>\n",
       "    </tr>\n",
       "    <tr>\n",
       "      <th>4</th>\n",
       "      <td>Important day spent at Camp David with our ver...</td>\n",
       "      <td>0.6590</td>\n",
       "      <td>0.231</td>\n",
       "      <td>0.769</td>\n",
       "      <td>0.000</td>\n",
       "    </tr>\n",
       "  </tbody>\n",
       "</table>\n",
       "</div>"
      ],
      "text/plain": [
       "                                               Tweet  Compound  Positive  \\\n",
       "0  RT     HappyThanksgiving from   and    soldier...    0.0000     0.000   \n",
       "1  Will be doing a live Thanksgiving Video Teleco...    0.0000     0.000   \n",
       "2  It was a pleasure to have President Ashraf Gha...    0.5719     0.198   \n",
       "3  The Fake News is now complaining about my diff...   -0.6808     0.073   \n",
       "4  Important day spent at Camp David with our ver...    0.6590     0.231   \n",
       "\n",
       "   Neutral  Negative  \n",
       "0    1.000     0.000  \n",
       "1    1.000     0.000  \n",
       "2    0.802     0.000  \n",
       "3    0.660     0.267  \n",
       "4    0.769     0.000  "
      ]
     },
     "execution_count": 8,
     "metadata": {},
     "output_type": "execute_result"
    }
   ],
   "source": [
    "dictionary['Afghanistan.csv']"
   ]
  },
  {
   "cell_type": "code",
   "execution_count": 9,
   "metadata": {},
   "outputs": [
    {
     "data": {
      "text/plain": [
       "{'Afghanistan': 0.11002,\n",
       " 'Argentina': 0.3299666666666667,\n",
       " 'Australia': 0.6746,\n",
       " 'Belgium': 0.0,\n",
       " 'Brazil': -0.7531,\n",
       " 'Canada': -0.06526666666666665,\n",
       " 'Chile': nan,\n",
       " 'China': 0.17490689655172417,\n",
       " 'Colombia': nan,\n",
       " 'Cuba': 0.5631,\n",
       " 'Denmark': nan,\n",
       " 'Egypt': -0.92145,\n",
       " 'England': -0.2997,\n",
       " 'Finland': -0.036219999999999995,\n",
       " 'France': 0.25286666666666663,\n",
       " 'Georgia': 0.3628333333333333,\n",
       " 'Germany': 0.07434705882352943,\n",
       " 'Greece': 0.5897,\n",
       " 'Haiti': -0.7688,\n",
       " 'Honduras': 0.49835,\n",
       " 'India': 0.6159111111111111,\n",
       " 'Indonesia': nan,\n",
       " 'Iran': -0.1317558823529412,\n",
       " 'Iraq': -0.2787,\n",
       " 'Ireland': 0.7351,\n",
       " 'Israel': 0.4832666666666667,\n",
       " 'Italy': 0.28263333333333335,\n",
       " 'Jamaica': 0.8415,\n",
       " 'Japan': 0.49620833333333336,\n",
       " 'Jordan': 0.4374,\n",
       " 'Kuwait': 0.4588,\n",
       " 'Libya': nan,\n",
       " 'Mexico': 0.075004,\n",
       " 'Nigeria': 0.8834,\n",
       " 'North Korea': 0.14155116279069768,\n",
       " 'Norway': 0.9559,\n",
       " 'Pakistan': 0.21306666666666665,\n",
       " 'Palestine': nan,\n",
       " 'Panama': 0.8834,\n",
       " 'Phillipines': 0.0,\n",
       " 'Poland': 0.36815,\n",
       " 'Qatar': nan,\n",
       " 'Russia': -0.14369741379310338,\n",
       " 'Saudi Arabia': 0.38999999999999996,\n",
       " 'Singapore': 0.42254,\n",
       " 'Somali': 0.1111,\n",
       " 'South Africa': nan,\n",
       " 'Spain': 0.286775,\n",
       " 'Sudan': nan,\n",
       " 'Sweden': nan,\n",
       " 'Syria': -0.18863529411764707,\n",
       " 'Thailand': 0.20095,\n",
       " 'Turkey': 0.33063333333333333,\n",
       " 'Ukraine': 0.5525333333333333,\n",
       " 'Uzbekistan': 0.8834,\n",
       " 'Venezuela': 0.40080000000000005,\n",
       " 'Vietnam': -0.010336363636363649,\n",
       " 'Yemen': nan}"
      ]
     },
     "execution_count": 9,
     "metadata": {},
     "output_type": "execute_result"
    }
   ],
   "source": [
    "average_sentiment_dict={}\n",
    "for country in dictionary:\n",
    "    df=dictionary[country]\n",
    "    country_string=str(country)[:-4]\n",
    "    avg=df.Compound.mean()\n",
    "    average_sentiment_dict[country_string]=avg\n",
    "\n",
    "\n",
    "average_sentiment_dict\n"
   ]
  },
  {
   "cell_type": "code",
   "execution_count": 10,
   "metadata": {
    "collapsed": true
   },
   "outputs": [],
   "source": [
    "avg_sentiment_df=pd.DataFrame.from_dict(average_sentiment_dict,orient='index')"
   ]
  },
  {
   "cell_type": "code",
   "execution_count": 11,
   "metadata": {},
   "outputs": [
    {
     "data": {
      "text/plain": [
       "Average Sentiment    0\n",
       "dtype: int64"
      ]
     },
     "execution_count": 11,
     "metadata": {},
     "output_type": "execute_result"
    }
   ],
   "source": [
    "avg_sentiment_df=avg_sentiment_df.rename(columns={0:'Average Sentiment'})\n",
    "avg_sentiment_df=avg_sentiment_df.fillna(0)\n",
    "avg_sentiment_df.isnull().sum()"
   ]
  },
  {
   "cell_type": "code",
   "execution_count": 12,
   "metadata": {},
   "outputs": [
    {
     "data": {
      "text/html": [
       "<div>\n",
       "<style scoped>\n",
       "    .dataframe tbody tr th:only-of-type {\n",
       "        vertical-align: middle;\n",
       "    }\n",
       "\n",
       "    .dataframe tbody tr th {\n",
       "        vertical-align: top;\n",
       "    }\n",
       "\n",
       "    .dataframe thead th {\n",
       "        text-align: right;\n",
       "    }\n",
       "</style>\n",
       "<table border=\"1\" class=\"dataframe\">\n",
       "  <thead>\n",
       "    <tr style=\"text-align: right;\">\n",
       "      <th></th>\n",
       "      <th>Average Sentiment</th>\n",
       "    </tr>\n",
       "  </thead>\n",
       "  <tbody>\n",
       "    <tr>\n",
       "      <th>Afghanistan</th>\n",
       "      <td>0.110020</td>\n",
       "    </tr>\n",
       "    <tr>\n",
       "      <th>Argentina</th>\n",
       "      <td>0.329967</td>\n",
       "    </tr>\n",
       "    <tr>\n",
       "      <th>Australia</th>\n",
       "      <td>0.674600</td>\n",
       "    </tr>\n",
       "    <tr>\n",
       "      <th>Belgium</th>\n",
       "      <td>0.000000</td>\n",
       "    </tr>\n",
       "    <tr>\n",
       "      <th>Brazil</th>\n",
       "      <td>-0.753100</td>\n",
       "    </tr>\n",
       "  </tbody>\n",
       "</table>\n",
       "</div>"
      ],
      "text/plain": [
       "             Average Sentiment\n",
       "Afghanistan           0.110020\n",
       "Argentina             0.329967\n",
       "Australia             0.674600\n",
       "Belgium               0.000000\n",
       "Brazil               -0.753100"
      ]
     },
     "execution_count": 12,
     "metadata": {},
     "output_type": "execute_result"
    }
   ],
   "source": [
    "avg_sentiment_df.head()"
   ]
  },
  {
   "cell_type": "code",
   "execution_count": 13,
   "metadata": {
    "collapsed": true
   },
   "outputs": [],
   "source": [
    "avg_sentiment_df.to_csv('sentiment_analysis.csv')"
   ]
  }
 ],
 "metadata": {
  "kernelspec": {
   "display_name": "Python 3",
   "language": "python",
   "name": "python3"
  },
  "language_info": {
   "codemirror_mode": {
    "name": "ipython",
    "version": 3
   },
   "file_extension": ".py",
   "mimetype": "text/x-python",
   "name": "python",
   "nbconvert_exporter": "python",
   "pygments_lexer": "ipython3",
   "version": "3.7.0"
  }
 },
 "nbformat": 4,
 "nbformat_minor": 2
}
