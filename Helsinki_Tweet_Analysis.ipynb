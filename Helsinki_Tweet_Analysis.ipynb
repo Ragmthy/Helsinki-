{
 "cells": [
  {
   "cell_type": "markdown",
   "metadata": {},
   "source": [
    "After doing Tweet collection with the Tweepy API, we used this vader Sentiment Analysis to investigate his sentiment based on Positive, Neutral, Negative"
   ]
  },
  {
   "cell_type": "code",
   "execution_count": 1,
   "metadata": {
    "collapsed": true
   },
   "outputs": [],
   "source": [
    "import pandas as pd\n",
    "import numpy as np\n",
    "import textblob\n",
    "from textblob import TextBlob\n",
    "import re\n",
    "import matplotlib\n",
    "import matplotlib.pyplot as plt\n",
    "from matplotlib import cm\n",
    "import warnings\n",
    "warnings.simplefilter(\"ignore\")\n",
    "%matplotlib inline\n",
    "\n",
    "matplotlib.rcParams['figure.figsize'] = [10,10]\n",
    "\n",
    "from vaderSentiment.vaderSentiment import SentimentIntensityAnalyzer\n",
    "analyzer = SentimentIntensityAnalyzer()"
   ]
  },
  {
   "cell_type": "code",
   "execution_count": 2,
   "metadata": {
    "collapsed": true
   },
   "outputs": [],
   "source": [
    "trump_df = pd.read_csv(\"realDonaldTrump_tweets.csv\")"
   ]
  },
  {
   "cell_type": "code",
   "execution_count": 3,
   "metadata": {
    "collapsed": true
   },
   "outputs": [],
   "source": [
    "#removes the 'b' infront of the tweets that indicate byte format\n",
    "trump_df.text = trump_df.text.str.lstrip(\"b'\")"
   ]
  },
  {
   "cell_type": "code",
   "execution_count": 4,
   "metadata": {
    "collapsed": true
   },
   "outputs": [],
   "source": [
    "#Saving that into a new csv\n",
    "trump_df.to_csv(\"test.csv\", index=False, encoding=\"utf-8\")"
   ]
  },
  {
   "cell_type": "code",
   "execution_count": 5,
   "metadata": {},
   "outputs": [
    {
     "data": {
      "text/html": [
       "<div>\n",
       "<style scoped>\n",
       "    .dataframe tbody tr th:only-of-type {\n",
       "        vertical-align: middle;\n",
       "    }\n",
       "\n",
       "    .dataframe tbody tr th {\n",
       "        vertical-align: top;\n",
       "    }\n",
       "\n",
       "    .dataframe thead th {\n",
       "        text-align: right;\n",
       "    }\n",
       "</style>\n",
       "<table border=\"1\" class=\"dataframe\">\n",
       "  <thead>\n",
       "    <tr style=\"text-align: right;\">\n",
       "      <th></th>\n",
       "      <th>Unnamed: 0</th>\n",
       "      <th>id</th>\n",
       "      <th>created_at</th>\n",
       "      <th>text</th>\n",
       "    </tr>\n",
       "  </thead>\n",
       "  <tbody>\n",
       "    <tr>\n",
       "      <th>0</th>\n",
       "      <td>0</td>\n",
       "      <td>1019545713435467776</td>\n",
       "      <td>2018-07-18 11:33:34</td>\n",
       "      <td>3.4 million jobs created since our great Elect...</td>\n",
       "    </tr>\n",
       "    <tr>\n",
       "      <th>1</th>\n",
       "      <td>1</td>\n",
       "      <td>1019544304853966853</td>\n",
       "      <td>2018-07-18 11:27:59</td>\n",
       "      <td>Some people HATE the fact that I got along wel...</td>\n",
       "    </tr>\n",
       "    <tr>\n",
       "      <th>2</th>\n",
       "      <td>2</td>\n",
       "      <td>1019538038651871233</td>\n",
       "      <td>2018-07-18 11:03:05</td>\n",
       "      <td>\\xe2\\x80\\x9cA lot of Democrats wished they vot...</td>\n",
       "    </tr>\n",
       "    <tr>\n",
       "      <th>3</th>\n",
       "      <td>3</td>\n",
       "      <td>1019533312052858880</td>\n",
       "      <td>2018-07-18 10:44:18</td>\n",
       "      <td>Congratulations to Martha Roby of The Great St...</td>\n",
       "    </tr>\n",
       "    <tr>\n",
       "      <th>4</th>\n",
       "      <td>4</td>\n",
       "      <td>1019526399542091776</td>\n",
       "      <td>2018-07-18 10:16:50</td>\n",
       "      <td>....Russia has agreed to help with North Korea...</td>\n",
       "    </tr>\n",
       "  </tbody>\n",
       "</table>\n",
       "</div>"
      ],
      "text/plain": [
       "   Unnamed: 0                   id           created_at  \\\n",
       "0           0  1019545713435467776  2018-07-18 11:33:34   \n",
       "1           1  1019544304853966853  2018-07-18 11:27:59   \n",
       "2           2  1019538038651871233  2018-07-18 11:03:05   \n",
       "3           3  1019533312052858880  2018-07-18 10:44:18   \n",
       "4           4  1019526399542091776  2018-07-18 10:16:50   \n",
       "\n",
       "                                                text  \n",
       "0  3.4 million jobs created since our great Elect...  \n",
       "1  Some people HATE the fact that I got along wel...  \n",
       "2  \\xe2\\x80\\x9cA lot of Democrats wished they vot...  \n",
       "3  Congratulations to Martha Roby of The Great St...  \n",
       "4  ....Russia has agreed to help with North Korea...  "
      ]
     },
     "execution_count": 5,
     "metadata": {},
     "output_type": "execute_result"
    }
   ],
   "source": [
    "#Checking the new csv\n",
    "pd.read_csv(\"test.csv\", encoding=\"utf-8\").head()"
   ]
  },
  {
   "cell_type": "code",
   "execution_count": 6,
   "metadata": {},
   "outputs": [
    {
     "data": {
      "text/html": [
       "<div>\n",
       "<style scoped>\n",
       "    .dataframe tbody tr th:only-of-type {\n",
       "        vertical-align: middle;\n",
       "    }\n",
       "\n",
       "    .dataframe tbody tr th {\n",
       "        vertical-align: top;\n",
       "    }\n",
       "\n",
       "    .dataframe thead th {\n",
       "        text-align: right;\n",
       "    }\n",
       "</style>\n",
       "<table border=\"1\" class=\"dataframe\">\n",
       "  <thead>\n",
       "    <tr style=\"text-align: right;\">\n",
       "      <th></th>\n",
       "      <th>id</th>\n",
       "      <th>created_at</th>\n",
       "      <th>text</th>\n",
       "    </tr>\n",
       "  </thead>\n",
       "  <tbody>\n",
       "    <tr>\n",
       "      <th>0</th>\n",
       "      <td>1019545713435467776</td>\n",
       "      <td>2018-07-18 11:33:34</td>\n",
       "      <td>3.4 million jobs created since our great Elect...</td>\n",
       "    </tr>\n",
       "    <tr>\n",
       "      <th>1</th>\n",
       "      <td>1019544304853966853</td>\n",
       "      <td>2018-07-18 11:27:59</td>\n",
       "      <td>Some people HATE the fact that I got along wel...</td>\n",
       "    </tr>\n",
       "    <tr>\n",
       "      <th>2</th>\n",
       "      <td>1019538038651871233</td>\n",
       "      <td>2018-07-18 11:03:05</td>\n",
       "      <td>\\xe2\\x80\\x9cA lot of Democrats wished they vot...</td>\n",
       "    </tr>\n",
       "    <tr>\n",
       "      <th>3</th>\n",
       "      <td>1019533312052858880</td>\n",
       "      <td>2018-07-18 10:44:18</td>\n",
       "      <td>Congratulations to Martha Roby of The Great St...</td>\n",
       "    </tr>\n",
       "    <tr>\n",
       "      <th>4</th>\n",
       "      <td>1019526399542091776</td>\n",
       "      <td>2018-07-18 10:16:50</td>\n",
       "      <td>....Russia has agreed to help with North Korea...</td>\n",
       "    </tr>\n",
       "  </tbody>\n",
       "</table>\n",
       "</div>"
      ],
      "text/plain": [
       "                    id           created_at  \\\n",
       "0  1019545713435467776  2018-07-18 11:33:34   \n",
       "1  1019544304853966853  2018-07-18 11:27:59   \n",
       "2  1019538038651871233  2018-07-18 11:03:05   \n",
       "3  1019533312052858880  2018-07-18 10:44:18   \n",
       "4  1019526399542091776  2018-07-18 10:16:50   \n",
       "\n",
       "                                                text  \n",
       "0  3.4 million jobs created since our great Elect...  \n",
       "1  Some people HATE the fact that I got along wel...  \n",
       "2  \\xe2\\x80\\x9cA lot of Democrats wished they vot...  \n",
       "3  Congratulations to Martha Roby of The Great St...  \n",
       "4  ....Russia has agreed to help with North Korea...  "
      ]
     },
     "execution_count": 6,
     "metadata": {},
     "output_type": "execute_result"
    }
   ],
   "source": [
    "trump_df= trump_df.drop(columns=['Unnamed: 0'])\n",
    "trump_df.head()"
   ]
  },
  {
   "cell_type": "code",
   "execution_count": 7,
   "metadata": {},
   "outputs": [
    {
     "data": {
      "text/plain": [
       "id             int64\n",
       "created_at    object\n",
       "text          object\n",
       "dtype: object"
      ]
     },
     "execution_count": 7,
     "metadata": {},
     "output_type": "execute_result"
    }
   ],
   "source": [
    "trump_df.dtypes"
   ]
  },
  {
   "cell_type": "markdown",
   "metadata": {},
   "source": [
    "Sentiment analysis, mainly based on the English words he types. Try and format the text into ASCII format. "
   ]
  },
  {
   "cell_type": "code",
   "execution_count": 8,
   "metadata": {
    "collapsed": true
   },
   "outputs": [],
   "source": [
    "#Try and clean the tweet text? Just keep the ascii- letter characters\n",
    "def clean_tweet(text):\n",
    "    \"\"\"Function to clean the text of a tweet by removing links and special characters using regex\"\"\"\n",
    "    return ''.join(re.sub(\"(@[A-Za-z]+)|([^A-Za-z \\t])|(\\w+:\\/\\/\\S+)\", \" \", text)) "
   ]
  },
  {
   "cell_type": "code",
   "execution_count": 9,
   "metadata": {
    "collapsed": true
   },
   "outputs": [],
   "source": [
    "#Try and access each tweet content, and clean it up\n",
    "for tweet in trump_df.text:\n",
    "    clean_tweet(tweet)"
   ]
  },
  {
   "cell_type": "code",
   "execution_count": 10,
   "metadata": {
    "collapsed": true
   },
   "outputs": [],
   "source": [
    "# New single columned data frame\n",
    "new_trump_df = trump_df.text.apply(clean_tweet)"
   ]
  },
  {
   "cell_type": "code",
   "execution_count": 11,
   "metadata": {},
   "outputs": [
    {
     "data": {
      "text/plain": [
       "0        million jobs created since our great Elect...\n",
       "1    Some people HATE the fact that I got along wel...\n",
       "2     xe  x   x cA lot of Democrats wished they vot...\n",
       "3    Congratulations to Martha Roby of The Great St...\n",
       "4        Russia has agreed to help with North Korea...\n",
       "5    While the NATO meeting in Brussels was an ackn...\n",
       "6    So many people at the higher ends of intellige...\n",
       "7     xe  x   x cProsperity is returning  Donald Tr...\n",
       "8    The Democrats want to abolish ICE  which will ...\n",
       "9    The meeting between President Putin and myself...\n",
       "Name: text, dtype: object"
      ]
     },
     "execution_count": 11,
     "metadata": {},
     "output_type": "execute_result"
    }
   ],
   "source": [
    "#only contains the clean text as a column\n",
    "new_trump_df.head(10)"
   ]
  },
  {
   "cell_type": "code",
   "execution_count": 12,
   "metadata": {
    "collapsed": true
   },
   "outputs": [],
   "source": [
    "#replacing the old data frame's text with the new text\n",
    "trump_df['text'] = new_trump_df"
   ]
  },
  {
   "cell_type": "code",
   "execution_count": 13,
   "metadata": {},
   "outputs": [
    {
     "data": {
      "text/html": [
       "<div>\n",
       "<style scoped>\n",
       "    .dataframe tbody tr th:only-of-type {\n",
       "        vertical-align: middle;\n",
       "    }\n",
       "\n",
       "    .dataframe tbody tr th {\n",
       "        vertical-align: top;\n",
       "    }\n",
       "\n",
       "    .dataframe thead th {\n",
       "        text-align: right;\n",
       "    }\n",
       "</style>\n",
       "<table border=\"1\" class=\"dataframe\">\n",
       "  <thead>\n",
       "    <tr style=\"text-align: right;\">\n",
       "      <th></th>\n",
       "      <th>id</th>\n",
       "      <th>created_at</th>\n",
       "      <th>text</th>\n",
       "    </tr>\n",
       "  </thead>\n",
       "  <tbody>\n",
       "    <tr>\n",
       "      <th>0</th>\n",
       "      <td>1019545713435467776</td>\n",
       "      <td>2018-07-18 11:33:34</td>\n",
       "      <td>million jobs created since our great Elect...</td>\n",
       "    </tr>\n",
       "    <tr>\n",
       "      <th>1</th>\n",
       "      <td>1019544304853966853</td>\n",
       "      <td>2018-07-18 11:27:59</td>\n",
       "      <td>Some people HATE the fact that I got along wel...</td>\n",
       "    </tr>\n",
       "    <tr>\n",
       "      <th>2</th>\n",
       "      <td>1019538038651871233</td>\n",
       "      <td>2018-07-18 11:03:05</td>\n",
       "      <td>xe  x   x cA lot of Democrats wished they vot...</td>\n",
       "    </tr>\n",
       "  </tbody>\n",
       "</table>\n",
       "</div>"
      ],
      "text/plain": [
       "                    id           created_at  \\\n",
       "0  1019545713435467776  2018-07-18 11:33:34   \n",
       "1  1019544304853966853  2018-07-18 11:27:59   \n",
       "2  1019538038651871233  2018-07-18 11:03:05   \n",
       "\n",
       "                                                text  \n",
       "0      million jobs created since our great Elect...  \n",
       "1  Some people HATE the fact that I got along wel...  \n",
       "2   xe  x   x cA lot of Democrats wished they vot...  "
      ]
     },
     "execution_count": 13,
     "metadata": {},
     "output_type": "execute_result"
    }
   ],
   "source": [
    "trump_df.head(3)"
   ]
  },
  {
   "cell_type": "code",
   "execution_count": 14,
   "metadata": {},
   "outputs": [
    {
     "data": {
      "text/html": [
       "<div>\n",
       "<style scoped>\n",
       "    .dataframe tbody tr th:only-of-type {\n",
       "        vertical-align: middle;\n",
       "    }\n",
       "\n",
       "    .dataframe tbody tr th {\n",
       "        vertical-align: top;\n",
       "    }\n",
       "\n",
       "    .dataframe thead th {\n",
       "        text-align: right;\n",
       "    }\n",
       "</style>\n",
       "<table border=\"1\" class=\"dataframe\">\n",
       "  <thead>\n",
       "    <tr style=\"text-align: right;\">\n",
       "      <th></th>\n",
       "      <th>Tweet</th>\n",
       "      <th>Compound</th>\n",
       "      <th>Positive</th>\n",
       "      <th>Neutral</th>\n",
       "      <th>Negative</th>\n",
       "    </tr>\n",
       "  </thead>\n",
       "  <tbody>\n",
       "    <tr>\n",
       "      <th>0</th>\n",
       "      <td>million jobs created since our great Elect...</td>\n",
       "      <td>0.8225</td>\n",
       "      <td>0.350</td>\n",
       "      <td>0.650</td>\n",
       "      <td>0.000</td>\n",
       "    </tr>\n",
       "    <tr>\n",
       "      <th>1</th>\n",
       "      <td>Some people HATE the fact that I got along wel...</td>\n",
       "      <td>-0.8038</td>\n",
       "      <td>0.067</td>\n",
       "      <td>0.668</td>\n",
       "      <td>0.265</td>\n",
       "    </tr>\n",
       "    <tr>\n",
       "      <th>2</th>\n",
       "      <td>xe  x   x cA lot of Democrats wished they vot...</td>\n",
       "      <td>0.1027</td>\n",
       "      <td>0.097</td>\n",
       "      <td>0.821</td>\n",
       "      <td>0.082</td>\n",
       "    </tr>\n",
       "    <tr>\n",
       "      <th>3</th>\n",
       "      <td>Congratulations to Martha Roby of The Great St...</td>\n",
       "      <td>0.9153</td>\n",
       "      <td>0.383</td>\n",
       "      <td>0.617</td>\n",
       "      <td>0.000</td>\n",
       "    </tr>\n",
       "    <tr>\n",
       "      <th>4</th>\n",
       "      <td>Russia has agreed to help with North Korea...</td>\n",
       "      <td>0.7902</td>\n",
       "      <td>0.296</td>\n",
       "      <td>0.704</td>\n",
       "      <td>0.000</td>\n",
       "    </tr>\n",
       "  </tbody>\n",
       "</table>\n",
       "</div>"
      ],
      "text/plain": [
       "                                               Tweet  Compound  Positive  \\\n",
       "0      million jobs created since our great Elect...    0.8225     0.350   \n",
       "1  Some people HATE the fact that I got along wel...   -0.8038     0.067   \n",
       "2   xe  x   x cA lot of Democrats wished they vot...    0.1027     0.097   \n",
       "3  Congratulations to Martha Roby of The Great St...    0.9153     0.383   \n",
       "4      Russia has agreed to help with North Korea...    0.7902     0.296   \n",
       "\n",
       "   Neutral  Negative  \n",
       "0    0.650     0.000  \n",
       "1    0.668     0.265  \n",
       "2    0.821     0.082  \n",
       "3    0.617     0.000  \n",
       "4    0.704     0.000  "
      ]
     },
     "execution_count": 14,
     "metadata": {},
     "output_type": "execute_result"
    }
   ],
   "source": [
    "tweet = []\n",
    "vs_compound = []\n",
    "vs_pos = []\n",
    "vs_neu = []\n",
    "vs_neg = []\n",
    "for i in range(0,len(trump_df)):\n",
    "    tweet.append(trump_df['text'][i])\n",
    "    vs_compound.append(analyzer.polarity_scores(trump_df['text'][i])['compound'])\n",
    "    vs_pos.append(analyzer.polarity_scores(trump_df['text'][i])['pos'])\n",
    "    vs_neu.append(analyzer.polarity_scores(trump_df['text'][i])['neu'])\n",
    "    vs_neg.append(analyzer.polarity_scores(trump_df['text'][i])['neg'])\n",
    "    twitter_df = pd.DataFrame({'Tweet': tweet,\n",
    "    'Compound': vs_compound,\n",
    "    'Positive': vs_pos,\n",
    "    'Neutral': vs_neu,\n",
    "    'Negative':vs_neg})\n",
    "    twitter_df = twitter_df[['Tweet','Compound','Positive','Neutral','Negative']]\n",
    "    \n",
    "twitter_df.head()\n"
   ]
  },
  {
   "cell_type": "code",
   "execution_count": 15,
   "metadata": {
    "collapsed": true
   },
   "outputs": [],
   "source": [
    "positive_tweets=0\n",
    "negative_tweets=0\n",
    "neutral_tweets=0\n",
    "for i in range(len(twitter_df)):\n",
    "    if(twitter_df['Compound'][i]>0.5):\n",
    "        positive_tweets+=1\n",
    "    elif(twitter_df['Compound'][i]<0):\n",
    "        negative_tweets+=1\n",
    "    else:\n",
    "        neutral_tweets+=1\n"
   ]
  },
  {
   "cell_type": "code",
   "execution_count": 16,
   "metadata": {},
   "outputs": [
    {
     "data": {
      "text/html": [
       "<div>\n",
       "<style scoped>\n",
       "    .dataframe tbody tr th:only-of-type {\n",
       "        vertical-align: middle;\n",
       "    }\n",
       "\n",
       "    .dataframe tbody tr th {\n",
       "        vertical-align: top;\n",
       "    }\n",
       "\n",
       "    .dataframe thead th {\n",
       "        text-align: right;\n",
       "    }\n",
       "</style>\n",
       "<table border=\"1\" class=\"dataframe\">\n",
       "  <thead>\n",
       "    <tr style=\"text-align: right;\">\n",
       "      <th></th>\n",
       "      <th>0</th>\n",
       "    </tr>\n",
       "  </thead>\n",
       "  <tbody>\n",
       "    <tr>\n",
       "      <th>Positive</th>\n",
       "      <td>1801</td>\n",
       "    </tr>\n",
       "    <tr>\n",
       "      <th>Negative</th>\n",
       "      <td>936</td>\n",
       "    </tr>\n",
       "    <tr>\n",
       "      <th>Neutral</th>\n",
       "      <td>498</td>\n",
       "    </tr>\n",
       "  </tbody>\n",
       "</table>\n",
       "</div>"
      ],
      "text/plain": [
       "             0\n",
       "Positive  1801\n",
       "Negative   936\n",
       "Neutral    498"
      ]
     },
     "execution_count": 16,
     "metadata": {},
     "output_type": "execute_result"
    }
   ],
   "source": [
    "import matplotlib.pyplot as plt; plt.rcdefaults()\n",
    " \n",
    "graph_df=pd.DataFrame(columns=['type','sentiment frequency'])\n",
    "tweet_dictionary={'Positive':positive_tweets,'Negative':negative_tweets,'Neutral':neutral_tweets}\n",
    "graph_df=pd.DataFrame.from_dict(tweet_dictionary,orient='index')\n",
    "graph_df.head()"
   ]
  },
  {
   "cell_type": "code",
   "execution_count": 23,
   "metadata": {},
   "outputs": [
    {
     "data": {
      "image/png": "[encoded data removed]",
      "text/plain": [
       "<Figure size 640x480 with 1 Axes>"
      ]
     },
     "metadata": {},
     "output_type": "display_data"
    },
    {
     "data": {
      "text/html": [
       "<div>\n",
       "<style scoped>\n",
       "    .dataframe tbody tr th:only-of-type {\n",
       "        vertical-align: middle;\n",
       "    }\n",
       "\n",
       "    .dataframe tbody tr th {\n",
       "        vertical-align: top;\n",
       "    }\n",
       "\n",
       "    .dataframe thead th {\n",
       "        text-align: right;\n",
       "    }\n",
       "</style>\n",
       "<table border=\"1\" class=\"dataframe\">\n",
       "  <thead>\n",
       "    <tr style=\"text-align: right;\">\n",
       "      <th></th>\n",
       "      <th>Number of Tweets</th>\n",
       "    </tr>\n",
       "  </thead>\n",
       "  <tbody>\n",
       "    <tr>\n",
       "      <th>Positive</th>\n",
       "      <td>1801</td>\n",
       "    </tr>\n",
       "    <tr>\n",
       "      <th>Negative</th>\n",
       "      <td>936</td>\n",
       "    </tr>\n",
       "    <tr>\n",
       "      <th>Neutral</th>\n",
       "      <td>498</td>\n",
       "    </tr>\n",
       "  </tbody>\n",
       "</table>\n",
       "</div>"
      ],
      "text/plain": [
       "          Number of Tweets\n",
       "Positive              1801\n",
       "Negative               936\n",
       "Neutral                498"
      ]
     },
     "execution_count": 23,
     "metadata": {},
     "output_type": "execute_result"
    }
   ],
   "source": [
    "graph_df=graph_df.rename(columns={0:'Number of Tweets'})\n",
    "graph_df.plot.bar(alpha=0.5)\n",
    "plt.xlabel('Tweet type')\n",
    "plt.ylabel('Count')\n",
    "plt.title('Trump Tweet Sentiments')\n",
    "plt.show()\n",
    "graph_df.head()"
   ]
  },
  {
   "cell_type": "code",
   "execution_count": 19,
   "metadata": {
    "collapsed": true
   },
   "outputs": [],
   "source": [
    "percentpositive= graph_df['Number of Tweets'][0]/graph_df['Number of Tweets'].sum()\n",
    "percentpositive\n",
    "\n",
    "percentnegative=graph_df['Number of Tweets'][1]/graph_df['Number of Tweets'].sum()\n",
    "\n",
    "percentneutral=graph_df['Number of Tweets'][2]/graph_df['Number of Tweets'].sum()"
   ]
  },
  {
   "cell_type": "code",
   "execution_count": 27,
   "metadata": {},
   "outputs": [
    {
     "name": "stdout",
     "output_type": "stream",
     "text": [
      "Percentage positive tweets:0.557\n",
      "Percentage negative tweets:0.289\n",
      "Percentage neutral tweets:0.154\n"
     ]
    }
   ],
   "source": [
    "print('Percentage positive tweets:{}'.format(round(percentpositive,3)))\n",
    "print('Percentage negative tweets:{}'.format(round(percentnegative,3)))\n",
    "print('Percentage neutral tweets:{}'.format(round(percentneutral,3)))"
   ]
  },
  {
   "cell_type": "code",
   "execution_count": null,
   "metadata": {
    "collapsed": true
   },
   "outputs": [],
   "source": []
  },
  {
   "cell_type": "code",
   "execution_count": null,
   "metadata": {
    "collapsed": true
   },
   "outputs": [],
   "source": [
    "trump_df.to_json('trump_data.json')"
   ]
  }
 ],
 "metadata": {
  "kernelspec": {
   "display_name": "Python 3",
   "language": "python",
   "name": "python3"
  },
  "language_info": {
   "codemirror_mode": {
    "name": "ipython",
    "version": 3
   },
   "file_extension": ".py",
   "mimetype": "text/x-python",
   "name": "python",
   "nbconvert_exporter": "python",
   "pygments_lexer": "ipython3",
   "version": "3.7.0"
  }
 },
 "nbformat": 4,
 "nbformat_minor": 2
}
